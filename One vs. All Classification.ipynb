{
 "cells": [
  {
   "cell_type": "code",
   "execution_count": 1,
   "id": "0b3a9f73",
   "metadata": {},
   "outputs": [],
   "source": [
    "import pandas as pd\n",
    "\n",
    "# Import csv data\n",
    "df = pd.read_csv(\"songs_normalize.csv\")\n",
    "artist, song, explicit, year, popularity, dance, energy, key, loud, mode, speech, acous, instrumental, live, valence, tempo, genre = df['artist'], df['song'],df['explicit'],df['year'], df['popularity'], df['danceability'], df['energy'], df['key'], df['loudness'], df['mode'],df['speechiness'], df['acousticness'], df['instrumentalness'], df['liveness'],df['valence'],df['tempo'], df['genre']\n"
   ]
  },
  {
   "cell_type": "code",
   "execution_count": 8,
   "id": "383b289f",
   "metadata": {},
   "outputs": [],
   "source": [
    "from sklearn.linear_model import LinearRegression\n",
    "from sklearn.linear_model import LogisticRegression\n",
    "from sklearn.model_selection import train_test_split\n",
    "from sklearn.metrics import mean_absolute_error\n",
    "from sklearn.metrics import precision_recall_curve, roc_curve\n",
    "import matplotlib.pyplot as plt\n",
    "import numpy as np\n",
    "from sklearn import metrics\n",
    "\n",
    "# Choose features\n",
    "X = df[['danceability', 'energy', 'loudness', 'speechiness','valence', 'tempo']]\n",
    "\n",
    "# number of datasets \n",
    "m = 2000\n",
    "y_gt = df['genre']\n",
    "\n",
    "y = np.arange(2000)\n",
    "\"\"\"\n",
    "p = []\n",
    "for i in range(2000):\n",
    "    g = genre[i].split(\", \")\n",
    "    if len(g) == 1:\n",
    "        p.append([i,genre[i]])\n",
    "    else:\n",
    "        for j in g:\n",
    "            p.append([i, j])\n",
    "\n",
    "new_set = []\n",
    "for i in range(len(p)):\n",
    "    d = df['danceability'][p[i][0]]\n",
    "    e = df['energy'][p[i][0]] \n",
    "    l = df['loudness'][p[i][0]] \n",
    "    s = df['speechiness'][p[i][0]] \n",
    "    v = df['valence'][p[i][0]] \n",
    "    t = df['tempo'][p[i][0]] \n",
    "    g = p[i][1]\n",
    "    new_set.append([i,d,e,l,s,v,t])\n",
    "y = np.arange(len(p))\n",
    "\"\"\"\n",
    "# categorize each j\n",
    "for i in range(m):\n",
    "    if 'hip hop' in y_gt.iloc[i]:\n",
    "        y[i] = 1\n",
    "    elif 'pop' in y_gt.iloc[i]:\n",
    "        y[i] = 2\n",
    "    elif 'rock' in y_gt.iloc[i]:\n",
    "        y[i] = 3\n",
    "    elif 'R&B' in y_gt.iloc[i]:\n",
    "        y[i] = 4\n",
    "    elif 'metal' in y_gt.iloc[i]:\n",
    "        y[i] = 5\n",
    "    elif 'country' in y_gt.iloc[i]:\n",
    "        y[i] = 6\n",
    "    elif 'Dance/Electronic' in y_gt.iloc[i]:\n",
    "        y[i] = 7\n",
    "    elif 'Folk/Acoustic' in y_gt.iloc[i]:\n",
    "        y[i] = 8\n",
    "    elif 'easy listening' in y_gt.iloc[i]:\n",
    "        y[i] = 9\n",
    "    elif 'latin' in y_gt.iloc[i]:\n",
    "        y[i] = 10\n",
    "    else:\n",
    "        y[i] = 0\n",
    "\"\"\"\n",
    "for i in range(len(new_set)):\n",
    "    if 'hip hop' == p[i][1]:\n",
    "        y[i] = 1\n",
    "    elif 'pop' == p[i][1]:\n",
    "        y[i] = 2\n",
    "    elif 'rock' == p[i][1]:\n",
    "        y[i] = 3\n",
    "    elif 'R&B' == p[i][1]:\n",
    "        y[i] = 4\n",
    "    elif 'metal' == p[i][1]:\n",
    "        y[i] = 5\n",
    "    elif 'country' == p[i][1]:\n",
    "        y[i] = 6\n",
    "    elif 'Dance/Electronic' == p[i][1]:\n",
    "        y[i] = 7\n",
    "    elif 'Folk/Acoustic' == p[i][1]:\n",
    "        y[i] = 8\n",
    "    elif 'easy listening' == p[i][1]:\n",
    "        y[i] = 9\n",
    "    elif 'latin' == p[i][1]:\n",
    "        y[i] = 10\n",
    "    elif 'jazz' == p[i][1]:\n",
    "        y[i] = 11\n",
    "    else:\n",
    "        y[i] = 0\n",
    "\"\"\"\n",
    "# Set Training datas\n",
    "X_train,X_test,y_train,y_test=train_test_split(X,y,test_size=0.25)\n",
    "\n",
    "#logreg = LogisticRegression().fit(X_train, y_train)\n",
    "logreg = LogisticRegression(multi_class = 'ovr', solver = 'liblinear').fit(X_train, y_train)"
   ]
  },
  {
   "cell_type": "code",
   "execution_count": 9,
   "id": "ff30e458",
   "metadata": {},
   "outputs": [
    {
     "name": "stdout",
     "output_type": "stream",
     "text": [
      "              precision    recall  f1-score   support\n",
      "\n",
      "           0       0.00      0.00      0.00         7\n",
      "           1       0.65      0.52      0.57       194\n",
      "           2       0.57      0.81      0.67       244\n",
      "           3       0.00      0.00      0.00        31\n",
      "           4       0.00      0.00      0.00         3\n",
      "           5       0.00      0.00      0.00         4\n",
      "           6       0.00      0.00      0.00         4\n",
      "           7       0.00      0.00      0.00        10\n",
      "           8       0.00      0.00      0.00         1\n",
      "          10       0.00      0.00      0.00         2\n",
      "\n",
      "    accuracy                           0.60       500\n",
      "   macro avg       0.12      0.13      0.12       500\n",
      "weighted avg       0.53      0.60      0.55       500\n",
      "\n",
      "[1 2 2 1 2 2 2 1 1 2 1 2 1 2 2 2 2 1 1 2 2 2 1 2 2 2 1 1 1 2 2 1 2 2 2 1 2\n",
      " 1 2 2 2 1 2 2 2 2 2 2 2 2 2 2 2 2 2 2 2 2 2 2 1 2 1 1 1 2 2 1 2 2 2 2 2 2\n",
      " 2 2 2 2 2 1 2 1 1 2 2 1 2 2 2 2 2 2 2 2 2 1 2 2 2 2 2 2 2 2 2 2 2 2 2 2 1\n",
      " 2 1 2 2 2 2 2 2 2 1 1 2 1 2 2 2 1 2 1 1 2 2 2 1 2 1 2 2 1 2 2 2 2 2 2 2 1\n",
      " 2 2 1 2 2 2 2 1 1 1 1 1 2 2 2 2 2 2 2 2 2 2 2 2 1 1 2 2 2 2 1 2 1 2 2 1 1\n",
      " 1 2 2 2 2 2 2 2 2 2 2 1 1 2 2 2 2 1 2 1 2 2 1 1 2 2 2 2 1 2 2 2 2 2 2 1 2\n",
      " 2 1 1 1 2 1 2 2 2 2 1 2 2 2 2 2 1 2 2 2 2 1 1 1 1 2 2 1 2 2 2 2 1 1 2 2 2\n",
      " 2 1 2 2 1 1 2 2 1 1 2 1 2 2 2 2 2 2 2 1 2 2 2 2 1 1 2 1 2 2 2 2 2 2 1 2 2\n",
      " 2 1 2 1 2 2 2 2 2 2 1 2 2 1 2 1 1 2 2 2 2 1 2 1 1 1 2 1 2 2 2 1 1 2 2 2 2\n",
      " 2 2 2 2 1 2 2 2 1 1 1 1 2 1 2 2 1 2 1 2 1 1 2 2 2 2 2 2 1 1 1 1 2 2 2 1 2\n",
      " 2 2 2 2 1 2 2 2 2 2 2 2 2 2 2 2 1 1 2 2 2 2 1 1 2 2 2 1 1 2 1 2 1 1 2 1 1\n",
      " 1 1 1 2 2 1 2 2 2 1 2 2 1 2 1 1 2 2 1 2 1 2 1 2 2 1 2 2 2 2 2 1 2 2 2 2 1\n",
      " 2 1 2 1 2 2 2 2 1 2 2 1 1 2 2 2 2 1 2 2 2 1 2 1 2 2 2 1 2 2 2 2 2 1 1 1 1\n",
      " 2 2 1 2 2 2 2 1 2 2 2 2 2 2 2 1 1 2 2]\n"
     ]
    },
    {
     "name": "stderr",
     "output_type": "stream",
     "text": [
      "C:\\Users\\13477\\anaconda3\\lib\\site-packages\\sklearn\\metrics\\_classification.py:1245: UndefinedMetricWarning: Precision and F-score are ill-defined and being set to 0.0 in labels with no predicted samples. Use `zero_division` parameter to control this behavior.\n",
      "  _warn_prf(average, modifier, msg_start, len(result))\n",
      "C:\\Users\\13477\\anaconda3\\lib\\site-packages\\sklearn\\metrics\\_classification.py:1245: UndefinedMetricWarning: Precision and F-score are ill-defined and being set to 0.0 in labels with no predicted samples. Use `zero_division` parameter to control this behavior.\n",
      "  _warn_prf(average, modifier, msg_start, len(result))\n",
      "C:\\Users\\13477\\anaconda3\\lib\\site-packages\\sklearn\\metrics\\_classification.py:1245: UndefinedMetricWarning: Precision and F-score are ill-defined and being set to 0.0 in labels with no predicted samples. Use `zero_division` parameter to control this behavior.\n",
      "  _warn_prf(average, modifier, msg_start, len(result))\n"
     ]
    }
   ],
   "source": [
    "prediction = logreg.predict(X_test)\n",
    "logreg.score(X_test, y_test)\n",
    "print(metrics.classification_report(y_test, logreg.predict(X_test)))\n",
    "print(logreg.predict(X_test))"
   ]
  },
  {
   "cell_type": "code",
   "execution_count": 4,
   "id": "38a53fa1",
   "metadata": {},
   "outputs": [
    {
     "name": "stdout",
     "output_type": "stream",
     "text": [
      "0.592\n"
     ]
    }
   ],
   "source": [
    "m_test = len(prediction)\n",
    "count = 0\n",
    "for i in range(len(prediction)):\n",
    "    if y_test[i] == prediction[i]:\n",
    "        count += 1\n",
    "print(count/m_test)\n",
    "y_score = logreg.predict_proba(X_test)\n"
   ]
  },
  {
   "cell_type": "code",
   "execution_count": null,
   "id": "aa81afb3",
   "metadata": {},
   "outputs": [],
   "source": []
  }
 ],
 "metadata": {
  "kernelspec": {
   "display_name": "Python 3",
   "language": "python",
   "name": "python3"
  },
  "language_info": {
   "codemirror_mode": {
    "name": "ipython",
    "version": 3
   },
   "file_extension": ".py",
   "mimetype": "text/x-python",
   "name": "python",
   "nbconvert_exporter": "python",
   "pygments_lexer": "ipython3",
   "version": "3.8.8"
  }
 },
 "nbformat": 4,
 "nbformat_minor": 5
}
